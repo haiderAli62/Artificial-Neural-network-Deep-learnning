{
  "nbformat": 4,
  "nbformat_minor": 0,
  "metadata": {
    "colab": {
      "name": "firstANN.ipynb",
      "version": "0.3.2",
      "provenance": [],
      "collapsed_sections": [],
      "include_colab_link": true
    },
    "kernelspec": {
      "name": "python3",
      "display_name": "Python 3"
    },
    "accelerator": "GPU"
  },
  "cells": [
    {
      "cell_type": "markdown",
      "metadata": {
        "id": "view-in-github",
        "colab_type": "text"
      },
      "source": [
        "<a href=\"https://colab.research.google.com/github/haiderAli62/Artificial-Neural-network-Deep-learnning/blob/master/firstANN.ipynb\" target=\"_parent\"><img src=\"https://colab.research.google.com/assets/colab-badge.svg\" alt=\"Open In Colab\"/></a>"
      ]
    },
    {
      "metadata": {
        "id": "KSdM40qaibgW",
        "colab_type": "text"
      },
      "cell_type": "markdown",
      "source": [
        "This is a business problem in which we try to predict that which customer of the bank will leave the bank or which will not\n",
        "\n",
        "**Part 1 : data preprocessing**"
      ]
    },
    {
      "metadata": {
        "id": "MtIcJ7R_ixYE",
        "colab_type": "code",
        "colab": {}
      },
      "cell_type": "code",
      "source": [
        "# importing libraries\n",
        "import numpy as np\n",
        "import matplotlib.pyplot as plt\n",
        "import pandas as pd"
      ],
      "execution_count": 0,
      "outputs": []
    },
    {
      "metadata": {
        "id": "ZWxfzI7qo_0T",
        "colab_type": "code",
        "colab": {
          "resources": {
            "http://localhost:8080/nbextensions/google.colab/files.js": {
              "data": "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",
              "ok": true,
              "headers": [
                [
                  "content-type",
                  "application/javascript"
                ]
              ],
              "status": 200,
              "status_text": ""
            }
          },
          "base_uri": "https://localhost:8080/",
          "height": 74
        },
        "outputId": "90c755b7-3dab-4180-839e-9cf7c73fa0a9"
      },
      "cell_type": "code",
      "source": [
        "#import data\n",
        "from google.colab import files\n",
        "uploaded = files.upload()"
      ],
      "execution_count": 100,
      "outputs": [
        {
          "output_type": "display_data",
          "data": {
            "text/html": [
              "\n",
              "     <input type=\"file\" id=\"files-343a8fde-a159-40a1-b8fd-805b242342f2\" name=\"files[]\" multiple disabled />\n",
              "     <output id=\"result-343a8fde-a159-40a1-b8fd-805b242342f2\">\n",
              "      Upload widget is only available when the cell has been executed in the\n",
              "      current browser session. Please rerun this cell to enable.\n",
              "      </output>\n",
              "      <script src=\"/nbextensions/google.colab/files.js\"></script> "
            ],
            "text/plain": [
              "<IPython.core.display.HTML object>"
            ]
          },
          "metadata": {
            "tags": []
          }
        },
        {
          "output_type": "stream",
          "text": [
            "Saving Churn_Modelling.csv to Churn_Modelling (1).csv\n"
          ],
          "name": "stdout"
        }
      ]
    },
    {
      "metadata": {
        "id": "rep0S5lYqCtO",
        "colab_type": "code",
        "colab": {
          "base_uri": "https://localhost:8080/",
          "height": 204
        },
        "outputId": "efc11630-8b45-4c3a-c305-842079a81e91"
      },
      "cell_type": "code",
      "source": [
        "#load the contents of the file into a Pandas DataFrame\n",
        "import io\n",
        "dataset = pd.read_csv(io.StringIO(uploaded['Churn_Modelling.csv'].decode('utf-8')))\n",
        "dataset.head()"
      ],
      "execution_count": 110,
      "outputs": [
        {
          "output_type": "execute_result",
          "data": {
            "text/html": [
              "<div>\n",
              "<style scoped>\n",
              "    .dataframe tbody tr th:only-of-type {\n",
              "        vertical-align: middle;\n",
              "    }\n",
              "\n",
              "    .dataframe tbody tr th {\n",
              "        vertical-align: top;\n",
              "    }\n",
              "\n",
              "    .dataframe thead th {\n",
              "        text-align: right;\n",
              "    }\n",
              "</style>\n",
              "<table border=\"1\" class=\"dataframe\">\n",
              "  <thead>\n",
              "    <tr style=\"text-align: right;\">\n",
              "      <th></th>\n",
              "      <th>RowNumber</th>\n",
              "      <th>CustomerId</th>\n",
              "      <th>Surname</th>\n",
              "      <th>CreditScore</th>\n",
              "      <th>Geography</th>\n",
              "      <th>Gender</th>\n",
              "      <th>Age</th>\n",
              "      <th>Tenure</th>\n",
              "      <th>Balance</th>\n",
              "      <th>NumOfProducts</th>\n",
              "      <th>HasCrCard</th>\n",
              "      <th>IsActiveMember</th>\n",
              "      <th>EstimatedSalary</th>\n",
              "      <th>Exited</th>\n",
              "    </tr>\n",
              "  </thead>\n",
              "  <tbody>\n",
              "    <tr>\n",
              "      <th>0</th>\n",
              "      <td>1</td>\n",
              "      <td>15634602</td>\n",
              "      <td>Hargrave</td>\n",
              "      <td>619</td>\n",
              "      <td>France</td>\n",
              "      <td>Female</td>\n",
              "      <td>42</td>\n",
              "      <td>2</td>\n",
              "      <td>0.00</td>\n",
              "      <td>1</td>\n",
              "      <td>1</td>\n",
              "      <td>1</td>\n",
              "      <td>101348.88</td>\n",
              "      <td>1</td>\n",
              "    </tr>\n",
              "    <tr>\n",
              "      <th>1</th>\n",
              "      <td>2</td>\n",
              "      <td>15647311</td>\n",
              "      <td>Hill</td>\n",
              "      <td>608</td>\n",
              "      <td>Spain</td>\n",
              "      <td>Female</td>\n",
              "      <td>41</td>\n",
              "      <td>1</td>\n",
              "      <td>83807.86</td>\n",
              "      <td>1</td>\n",
              "      <td>0</td>\n",
              "      <td>1</td>\n",
              "      <td>112542.58</td>\n",
              "      <td>0</td>\n",
              "    </tr>\n",
              "    <tr>\n",
              "      <th>2</th>\n",
              "      <td>3</td>\n",
              "      <td>15619304</td>\n",
              "      <td>Onio</td>\n",
              "      <td>502</td>\n",
              "      <td>France</td>\n",
              "      <td>Female</td>\n",
              "      <td>42</td>\n",
              "      <td>8</td>\n",
              "      <td>159660.80</td>\n",
              "      <td>3</td>\n",
              "      <td>1</td>\n",
              "      <td>0</td>\n",
              "      <td>113931.57</td>\n",
              "      <td>1</td>\n",
              "    </tr>\n",
              "    <tr>\n",
              "      <th>3</th>\n",
              "      <td>4</td>\n",
              "      <td>15701354</td>\n",
              "      <td>Boni</td>\n",
              "      <td>699</td>\n",
              "      <td>France</td>\n",
              "      <td>Female</td>\n",
              "      <td>39</td>\n",
              "      <td>1</td>\n",
              "      <td>0.00</td>\n",
              "      <td>2</td>\n",
              "      <td>0</td>\n",
              "      <td>0</td>\n",
              "      <td>93826.63</td>\n",
              "      <td>0</td>\n",
              "    </tr>\n",
              "    <tr>\n",
              "      <th>4</th>\n",
              "      <td>5</td>\n",
              "      <td>15737888</td>\n",
              "      <td>Mitchell</td>\n",
              "      <td>850</td>\n",
              "      <td>Spain</td>\n",
              "      <td>Female</td>\n",
              "      <td>43</td>\n",
              "      <td>2</td>\n",
              "      <td>125510.82</td>\n",
              "      <td>1</td>\n",
              "      <td>1</td>\n",
              "      <td>1</td>\n",
              "      <td>79084.10</td>\n",
              "      <td>0</td>\n",
              "    </tr>\n",
              "  </tbody>\n",
              "</table>\n",
              "</div>"
            ],
            "text/plain": [
              "   RowNumber  CustomerId   Surname  CreditScore Geography  Gender  Age  \\\n",
              "0          1    15634602  Hargrave          619    France  Female   42   \n",
              "1          2    15647311      Hill          608     Spain  Female   41   \n",
              "2          3    15619304      Onio          502    France  Female   42   \n",
              "3          4    15701354      Boni          699    France  Female   39   \n",
              "4          5    15737888  Mitchell          850     Spain  Female   43   \n",
              "\n",
              "   Tenure    Balance  NumOfProducts  HasCrCard  IsActiveMember  \\\n",
              "0       2       0.00              1          1               1   \n",
              "1       1   83807.86              1          0               1   \n",
              "2       8  159660.80              3          1               0   \n",
              "3       1       0.00              2          0               0   \n",
              "4       2  125510.82              1          1               1   \n",
              "\n",
              "   EstimatedSalary  Exited  \n",
              "0        101348.88       1  \n",
              "1        112542.58       0  \n",
              "2        113931.57       1  \n",
              "3         93826.63       0  \n",
              "4         79084.10       0  "
            ]
          },
          "metadata": {
            "tags": []
          },
          "execution_count": 110
        }
      ]
    },
    {
      "metadata": {
        "id": "WUjLB_J6rUo7",
        "colab_type": "code",
        "colab": {}
      },
      "cell_type": "code",
      "source": [
        "X = dataset.iloc[:, 3: 13].values\n",
        "y = dataset.iloc[:, 13].values"
      ],
      "execution_count": 0,
      "outputs": []
    },
    {
      "metadata": {
        "id": "5y8Xgu-4rnH0",
        "colab_type": "code",
        "colab": {}
      },
      "cell_type": "code",
      "source": [
        "# lable endcode the geography variable in X data set\n",
        "from sklearn.preprocessing import LabelEncoder, OneHotEncoder\n",
        "labelencoder_X_1 = LabelEncoder()\n",
        "X[:, 1] = labelencoder_X_1.fit_transform(X[:, 1])\n"
      ],
      "execution_count": 0,
      "outputs": []
    },
    {
      "metadata": {
        "id": "CqHlzY-Fsx-A",
        "colab_type": "code",
        "colab": {}
      },
      "cell_type": "code",
      "source": [
        "\n",
        "# now encode gender attribute\n",
        "labelencoder_X_2 = LabelEncoder()\n",
        "X[:, 2] = labelencoder_X_2.fit_transform(X[:, 2])\n"
      ],
      "execution_count": 0,
      "outputs": []
    },
    {
      "metadata": {
        "id": "4kiXWF0D1hXH",
        "colab_type": "code",
        "colab": {
          "base_uri": "https://localhost:8080/",
          "height": 139
        },
        "outputId": "b3505c7a-e28a-4a17-f902-fb3c9081b2d6"
      },
      "cell_type": "code",
      "source": [
        "# now use one hot encoder to all the independent variables\n",
        "onehotencoder = OneHotEncoder(categorical_features = [1])\n",
        "X = onehotencoder.fit_transform(X).toarray()\n"
      ],
      "execution_count": 115,
      "outputs": [
        {
          "output_type": "stream",
          "text": [
            "/usr/local/lib/python3.6/dist-packages/sklearn/preprocessing/_encoders.py:368: FutureWarning: The handling of integer data will change in version 0.22. Currently, the categories are determined based on the range [0, max(values)], while in the future they will be determined based on the unique values.\n",
            "If you want the future behaviour and silence this warning, you can specify \"categories='auto'\".\n",
            "In case you used a LabelEncoder before this OneHotEncoder to convert the categories to integers, then you can now use the OneHotEncoder directly.\n",
            "  warnings.warn(msg, FutureWarning)\n",
            "/usr/local/lib/python3.6/dist-packages/sklearn/preprocessing/_encoders.py:390: DeprecationWarning: The 'categorical_features' keyword is deprecated in version 0.20 and will be removed in 0.22. You can use the ColumnTransformer instead.\n",
            "  \"use the ColumnTransformer instead.\", DeprecationWarning)\n"
          ],
          "name": "stderr"
        }
      ]
    },
    {
      "metadata": {
        "id": "3s9DZSdu3ZHr",
        "colab_type": "code",
        "colab": {}
      },
      "cell_type": "code",
      "source": [
        "# remove one dummy variable to avoid fall into dummy variable trap\n",
        "X = X[: , 1:]\n"
      ],
      "execution_count": 0,
      "outputs": []
    },
    {
      "metadata": {
        "id": "1luLulQm2bCF",
        "colab_type": "code",
        "colab": {}
      },
      "cell_type": "code",
      "source": [
        "# split the data into training and testing\n",
        "from sklearn.model_selection import train_test_split\n",
        "X_train, X_test, y_train, y_test = train_test_split(X, y, test_size = 0.20, random_state = 0)\n"
      ],
      "execution_count": 0,
      "outputs": []
    },
    {
      "metadata": {
        "id": "9FeW_KGs20PV",
        "colab_type": "code",
        "colab": {}
      },
      "cell_type": "code",
      "source": [
        "# feature scalling\n",
        "from sklearn.preprocessing import StandardScaler\n",
        "sc = StandardScaler()\n",
        "X_train = sc.fit_transform(X_train)\n",
        "X_test = sc.transform(X_test)"
      ],
      "execution_count": 0,
      "outputs": []
    },
    {
      "metadata": {
        "id": "Ter___hA4qb3",
        "colab_type": "text"
      },
      "cell_type": "markdown",
      "source": [
        "**part 2 : Build an artificial Neural Network**"
      ]
    },
    {
      "metadata": {
        "id": "i4U2Giwo28cl",
        "colab_type": "code",
        "colab": {}
      },
      "cell_type": "code",
      "source": [
        "import keras\n",
        "from keras.models import Sequential      # module to initialize or neural network\n",
        "from keras.layers import Dense           # module to create layers in our ANN"
      ],
      "execution_count": 0,
      "outputs": []
    },
    {
      "metadata": {
        "id": "8qmg7WAl6ajj",
        "colab_type": "code",
        "colab": {}
      },
      "cell_type": "code",
      "source": [
        "# Initializing the ANN\n",
        "classifier = Sequential()         # as our problem is classification problem so we name our ann as classifier"
      ],
      "execution_count": 0,
      "outputs": []
    },
    {
      "metadata": {
        "id": "-5-mgCnx-60X",
        "colab_type": "code",
        "colab": {}
      },
      "cell_type": "code",
      "source": [
        "# add the input layer and hidder layer\n",
        "classifier.add(Dense(activation=\"relu\", input_dim=11, units=6, kernel_initializer=\"uniform\"))"
      ],
      "execution_count": 0,
      "outputs": []
    },
    {
      "metadata": {
        "id": "DDFQa-_iAFXM",
        "colab_type": "code",
        "colab": {}
      },
      "cell_type": "code",
      "source": [
        "# 2nd hidden layer\n",
        "classifier.add(Dense(activation=\"relu\", units=6, kernel_initializer=\"uniform\"))"
      ],
      "execution_count": 0,
      "outputs": []
    },
    {
      "metadata": {
        "id": "3Jz9wVCYB3jz",
        "colab_type": "code",
        "colab": {}
      },
      "cell_type": "code",
      "source": [
        "#  finally output layer\n",
        "classifier.add(Dense(activation=\"sigmoid\", units=1, kernel_initializer=\"uniform\"))"
      ],
      "execution_count": 0,
      "outputs": []
    },
    {
      "metadata": {
        "id": "LA9hgPo7EQhO",
        "colab_type": "code",
        "colab": {}
      },
      "cell_type": "code",
      "source": [
        "# compiling the ann\n",
        "classifier.compile(optimizer = 'adam' ,loss = 'binary_crossentropy' , metrics = ['accuracy'])"
      ],
      "execution_count": 0,
      "outputs": []
    },
    {
      "metadata": {
        "id": "bUR_lE1KEvO6",
        "colab_type": "code",
        "colab": {
          "base_uri": "https://localhost:8080/",
          "height": 3505
        },
        "outputId": "880b0458-c32c-4491-d316-948f870ad12f"
      },
      "cell_type": "code",
      "source": [
        "# fitting the ANN to the training set\n",
        "classifier.fit(X_train , y_train , batch_size = 10 , epochs=100)"
      ],
      "execution_count": 131,
      "outputs": [
        {
          "output_type": "stream",
          "text": [
            "WARNING:tensorflow:From /usr/local/lib/python3.6/dist-packages/tensorflow/python/ops/math_ops.py:3066: to_int32 (from tensorflow.python.ops.math_ops) is deprecated and will be removed in a future version.\n",
            "Instructions for updating:\n",
            "Use tf.cast instead.\n",
            "Epoch 1/100\n",
            "8000/8000 [==============================] - 7s 927us/step - loss: 0.5869 - acc: 0.7847\n",
            "Epoch 2/100\n",
            "8000/8000 [==============================] - 4s 557us/step - loss: 0.5117 - acc: 0.7960\n",
            "Epoch 3/100\n",
            "8000/8000 [==============================] - 4s 552us/step - loss: 0.5062 - acc: 0.7960\n",
            "Epoch 4/100\n",
            "8000/8000 [==============================] - 4s 549us/step - loss: 0.5060 - acc: 0.7960\n",
            "Epoch 5/100\n",
            "8000/8000 [==============================] - 4s 558us/step - loss: 0.5060 - acc: 0.7960\n",
            "Epoch 6/100\n",
            "8000/8000 [==============================] - 4s 553us/step - loss: 0.5060 - acc: 0.7960\n",
            "Epoch 7/100\n",
            "8000/8000 [==============================] - 4s 557us/step - loss: 0.5060 - acc: 0.7960\n",
            "Epoch 8/100\n",
            "8000/8000 [==============================] - 4s 554us/step - loss: 0.5060 - acc: 0.7960\n",
            "Epoch 9/100\n",
            "8000/8000 [==============================] - 4s 561us/step - loss: 0.5060 - acc: 0.7960\n",
            "Epoch 10/100\n",
            "8000/8000 [==============================] - 4s 550us/step - loss: 0.5060 - acc: 0.7960\n",
            "Epoch 11/100\n",
            "8000/8000 [==============================] - 4s 551us/step - loss: 0.5059 - acc: 0.7960\n",
            "Epoch 12/100\n",
            "8000/8000 [==============================] - 5s 581us/step - loss: 0.5060 - acc: 0.7960\n",
            "Epoch 13/100\n",
            "8000/8000 [==============================] - 5s 597us/step - loss: 0.5060 - acc: 0.7960\n",
            "Epoch 14/100\n",
            "8000/8000 [==============================] - 5s 579us/step - loss: 0.5060 - acc: 0.7960\n",
            "Epoch 15/100\n",
            "8000/8000 [==============================] - 4s 558us/step - loss: 0.5060 - acc: 0.7960\n",
            "Epoch 16/100\n",
            "8000/8000 [==============================] - 4s 556us/step - loss: 0.5060 - acc: 0.7960\n",
            "Epoch 17/100\n",
            "8000/8000 [==============================] - 4s 558us/step - loss: 0.5060 - acc: 0.7960\n",
            "Epoch 18/100\n",
            "8000/8000 [==============================] - 4s 556us/step - loss: 0.5060 - acc: 0.7960\n",
            "Epoch 19/100\n",
            "8000/8000 [==============================] - 4s 554us/step - loss: 0.5060 - acc: 0.7960\n",
            "Epoch 20/100\n",
            "8000/8000 [==============================] - 4s 553us/step - loss: 0.5060 - acc: 0.7960\n",
            "Epoch 21/100\n",
            "8000/8000 [==============================] - 4s 557us/step - loss: 0.5060 - acc: 0.7960\n",
            "Epoch 22/100\n",
            "8000/8000 [==============================] - 4s 557us/step - loss: 0.5060 - acc: 0.7960\n",
            "Epoch 23/100\n",
            "8000/8000 [==============================] - 4s 552us/step - loss: 0.5060 - acc: 0.7960\n",
            "Epoch 24/100\n",
            "8000/8000 [==============================] - 4s 550us/step - loss: 0.5060 - acc: 0.7960\n",
            "Epoch 25/100\n",
            "8000/8000 [==============================] - 5s 609us/step - loss: 0.5060 - acc: 0.7960\n",
            "Epoch 26/100\n",
            "8000/8000 [==============================] - 4s 555us/step - loss: 0.5060 - acc: 0.7960\n",
            "Epoch 27/100\n",
            "8000/8000 [==============================] - 4s 552us/step - loss: 0.5060 - acc: 0.7960\n",
            "Epoch 28/100\n",
            "8000/8000 [==============================] - 4s 553us/step - loss: 0.5060 - acc: 0.7960\n",
            "Epoch 29/100\n",
            "8000/8000 [==============================] - 4s 551us/step - loss: 0.5060 - acc: 0.7960\n",
            "Epoch 30/100\n",
            "8000/8000 [==============================] - 4s 549us/step - loss: 0.5060 - acc: 0.7960\n",
            "Epoch 31/100\n",
            "8000/8000 [==============================] - 4s 551us/step - loss: 0.5060 - acc: 0.7960\n",
            "Epoch 32/100\n",
            "8000/8000 [==============================] - 4s 552us/step - loss: 0.5060 - acc: 0.7960\n",
            "Epoch 33/100\n",
            "8000/8000 [==============================] - 4s 547us/step - loss: 0.5060 - acc: 0.7960\n",
            "Epoch 34/100\n",
            "8000/8000 [==============================] - 4s 550us/step - loss: 0.5060 - acc: 0.7960\n",
            "Epoch 35/100\n",
            "8000/8000 [==============================] - 4s 552us/step - loss: 0.5060 - acc: 0.7960\n",
            "Epoch 36/100\n",
            "8000/8000 [==============================] - 4s 548us/step - loss: 0.5060 - acc: 0.7960\n",
            "Epoch 37/100\n",
            "8000/8000 [==============================] - 4s 546us/step - loss: 0.5060 - acc: 0.7960\n",
            "Epoch 38/100\n",
            "8000/8000 [==============================] - 4s 552us/step - loss: 0.5060 - acc: 0.7960\n",
            "Epoch 39/100\n",
            "8000/8000 [==============================] - 4s 548us/step - loss: 0.5060 - acc: 0.7960\n",
            "Epoch 40/100\n",
            "8000/8000 [==============================] - 4s 551us/step - loss: 0.5060 - acc: 0.7960\n",
            "Epoch 41/100\n",
            "8000/8000 [==============================] - 4s 549us/step - loss: 0.5059 - acc: 0.7960\n",
            "Epoch 42/100\n",
            "8000/8000 [==============================] - 4s 547us/step - loss: 0.5060 - acc: 0.7960\n",
            "Epoch 43/100\n",
            "8000/8000 [==============================] - 4s 550us/step - loss: 0.5060 - acc: 0.7960\n",
            "Epoch 44/100\n",
            "8000/8000 [==============================] - 4s 550us/step - loss: 0.5060 - acc: 0.7960\n",
            "Epoch 45/100\n",
            "8000/8000 [==============================] - 4s 547us/step - loss: 0.5060 - acc: 0.7960\n",
            "Epoch 46/100\n",
            "8000/8000 [==============================] - 4s 550us/step - loss: 0.5060 - acc: 0.7960\n",
            "Epoch 47/100\n",
            "8000/8000 [==============================] - 4s 561us/step - loss: 0.5060 - acc: 0.7960\n",
            "Epoch 48/100\n",
            "8000/8000 [==============================] - 4s 548us/step - loss: 0.5060 - acc: 0.7960\n",
            "Epoch 49/100\n",
            "8000/8000 [==============================] - 4s 558us/step - loss: 0.5060 - acc: 0.7960\n",
            "Epoch 50/100\n",
            "8000/8000 [==============================] - 4s 550us/step - loss: 0.5060 - acc: 0.7960\n",
            "Epoch 51/100\n",
            "8000/8000 [==============================] - 4s 549us/step - loss: 0.5060 - acc: 0.7960\n",
            "Epoch 52/100\n",
            "8000/8000 [==============================] - 4s 550us/step - loss: 0.5060 - acc: 0.7960\n",
            "Epoch 53/100\n",
            "8000/8000 [==============================] - 4s 549us/step - loss: 0.5060 - acc: 0.7960\n",
            "Epoch 54/100\n",
            "8000/8000 [==============================] - 4s 552us/step - loss: 0.5060 - acc: 0.7960\n",
            "Epoch 55/100\n",
            "8000/8000 [==============================] - 4s 552us/step - loss: 0.5060 - acc: 0.7960\n",
            "Epoch 56/100\n",
            "8000/8000 [==============================] - 4s 555us/step - loss: 0.5060 - acc: 0.7960\n",
            "Epoch 57/100\n",
            "8000/8000 [==============================] - 4s 547us/step - loss: 0.5060 - acc: 0.7960\n",
            "Epoch 58/100\n",
            "8000/8000 [==============================] - 4s 548us/step - loss: 0.5061 - acc: 0.7960\n",
            "Epoch 59/100\n",
            "8000/8000 [==============================] - 4s 554us/step - loss: 0.5060 - acc: 0.7960\n",
            "Epoch 60/100\n",
            "8000/8000 [==============================] - 4s 552us/step - loss: 0.5060 - acc: 0.7960\n",
            "Epoch 61/100\n",
            "8000/8000 [==============================] - 4s 546us/step - loss: 0.5060 - acc: 0.7960\n",
            "Epoch 62/100\n",
            "8000/8000 [==============================] - 4s 550us/step - loss: 0.5060 - acc: 0.7960\n",
            "Epoch 63/100\n",
            "8000/8000 [==============================] - 4s 552us/step - loss: 0.5060 - acc: 0.7960\n",
            "Epoch 64/100\n",
            "8000/8000 [==============================] - 4s 549us/step - loss: 0.5060 - acc: 0.7960\n",
            "Epoch 65/100\n",
            "8000/8000 [==============================] - 4s 547us/step - loss: 0.5060 - acc: 0.7960\n",
            "Epoch 66/100\n",
            "8000/8000 [==============================] - 4s 548us/step - loss: 0.5060 - acc: 0.7960\n",
            "Epoch 67/100\n",
            "8000/8000 [==============================] - 4s 553us/step - loss: 0.5060 - acc: 0.7960\n",
            "Epoch 68/100\n",
            "8000/8000 [==============================] - 4s 548us/step - loss: 0.5060 - acc: 0.7960\n",
            "Epoch 69/100\n",
            "8000/8000 [==============================] - 4s 548us/step - loss: 0.5060 - acc: 0.7960\n",
            "Epoch 70/100\n",
            "8000/8000 [==============================] - 5s 566us/step - loss: 0.5061 - acc: 0.7960\n",
            "Epoch 71/100\n",
            "8000/8000 [==============================] - 4s 548us/step - loss: 0.5060 - acc: 0.7960\n",
            "Epoch 72/100\n",
            "8000/8000 [==============================] - 4s 552us/step - loss: 0.5060 - acc: 0.7960\n",
            "Epoch 73/100\n",
            "8000/8000 [==============================] - 4s 550us/step - loss: 0.5059 - acc: 0.7960\n",
            "Epoch 74/100\n",
            "8000/8000 [==============================] - 5s 568us/step - loss: 0.5060 - acc: 0.7960\n",
            "Epoch 75/100\n",
            "8000/8000 [==============================] - 4s 561us/step - loss: 0.5060 - acc: 0.7960\n",
            "Epoch 76/100\n",
            "8000/8000 [==============================] - 4s 561us/step - loss: 0.5060 - acc: 0.7960\n",
            "Epoch 77/100\n",
            "8000/8000 [==============================] - 4s 551us/step - loss: 0.5060 - acc: 0.7960\n",
            "Epoch 78/100\n",
            "8000/8000 [==============================] - 4s 552us/step - loss: 0.5060 - acc: 0.7960\n",
            "Epoch 79/100\n",
            "8000/8000 [==============================] - 4s 549us/step - loss: 0.5060 - acc: 0.7960\n",
            "Epoch 80/100\n",
            "8000/8000 [==============================] - 4s 551us/step - loss: 0.5060 - acc: 0.7960\n",
            "Epoch 81/100\n",
            "8000/8000 [==============================] - 4s 551us/step - loss: 0.5060 - acc: 0.7960\n",
            "Epoch 82/100\n",
            "8000/8000 [==============================] - 5s 582us/step - loss: 0.5060 - acc: 0.7960\n",
            "Epoch 83/100\n",
            "8000/8000 [==============================] - 5s 596us/step - loss: 0.5060 - acc: 0.7960\n",
            "Epoch 84/100\n",
            "8000/8000 [==============================] - 5s 574us/step - loss: 0.5060 - acc: 0.7960\n",
            "Epoch 85/100\n",
            "8000/8000 [==============================] - 4s 549us/step - loss: 0.5060 - acc: 0.7960\n",
            "Epoch 86/100\n",
            "8000/8000 [==============================] - 4s 549us/step - loss: 0.5060 - acc: 0.7960\n",
            "Epoch 87/100\n",
            "8000/8000 [==============================] - 4s 550us/step - loss: 0.5060 - acc: 0.7960\n",
            "Epoch 88/100\n",
            "8000/8000 [==============================] - 4s 553us/step - loss: 0.5060 - acc: 0.7960\n",
            "Epoch 89/100\n",
            "8000/8000 [==============================] - 4s 551us/step - loss: 0.5060 - acc: 0.7960\n",
            "Epoch 90/100\n",
            "8000/8000 [==============================] - 4s 553us/step - loss: 0.5060 - acc: 0.7960\n",
            "Epoch 91/100\n",
            "8000/8000 [==============================] - 4s 550us/step - loss: 0.5060 - acc: 0.7960\n",
            "Epoch 92/100\n",
            "8000/8000 [==============================] - 4s 549us/step - loss: 0.5060 - acc: 0.7960\n",
            "Epoch 93/100\n",
            "8000/8000 [==============================] - 4s 550us/step - loss: 0.5060 - acc: 0.7960\n",
            "Epoch 94/100\n",
            "8000/8000 [==============================] - 5s 604us/step - loss: 0.5060 - acc: 0.7960\n",
            "Epoch 95/100\n",
            "8000/8000 [==============================] - 4s 554us/step - loss: 0.5060 - acc: 0.7960\n",
            "Epoch 96/100\n",
            "8000/8000 [==============================] - 4s 546us/step - loss: 0.5060 - acc: 0.7960\n",
            "Epoch 97/100\n",
            "8000/8000 [==============================] - 4s 553us/step - loss: 0.5060 - acc: 0.7960\n",
            "Epoch 98/100\n",
            "8000/8000 [==============================] - 4s 548us/step - loss: 0.5060 - acc: 0.7960\n",
            "Epoch 99/100\n",
            "8000/8000 [==============================] - 4s 550us/step - loss: 0.5060 - acc: 0.7960\n",
            "Epoch 100/100\n",
            "8000/8000 [==============================] - 4s 544us/step - loss: 0.5060 - acc: 0.7960\n"
          ],
          "name": "stdout"
        },
        {
          "output_type": "execute_result",
          "data": {
            "text/plain": [
              "<keras.callbacks.History at 0x7f76d5339a58>"
            ]
          },
          "metadata": {
            "tags": []
          },
          "execution_count": 131
        }
      ]
    },
    {
      "metadata": {
        "id": "FffytwZFyKNF",
        "colab_type": "text"
      },
      "cell_type": "markdown",
      "source": [
        "we get almost 80% accuracy"
      ]
    },
    {
      "metadata": {
        "id": "YTFkUcpbyUR5",
        "colab_type": "code",
        "colab": {}
      },
      "cell_type": "code",
      "source": [
        "# Predicting the Test set results\n",
        "y_pred = classifier.predict(X_test)\n",
        "y_pred = (y_pred > 0.5)"
      ],
      "execution_count": 0,
      "outputs": []
    },
    {
      "metadata": {
        "id": "8fzMKKJJyeHo",
        "colab_type": "code",
        "colab": {}
      },
      "cell_type": "code",
      "source": [
        "from sklearn.metrics import confusion_matrix\n",
        "cm = confusion_matrix(y_test, y_pred)"
      ],
      "execution_count": 0,
      "outputs": []
    },
    {
      "metadata": {
        "id": "GdU1J4GVyjwm",
        "colab_type": "code",
        "colab": {
          "base_uri": "https://localhost:8080/",
          "height": 51
        },
        "outputId": "84f507c2-1f2b-46e6-ccb7-d26f458ade38"
      },
      "cell_type": "code",
      "source": [
        "cm"
      ],
      "execution_count": 134,
      "outputs": [
        {
          "output_type": "execute_result",
          "data": {
            "text/plain": [
              "array([[1595,    0],\n",
              "       [ 405,    0]])"
            ]
          },
          "metadata": {
            "tags": []
          },
          "execution_count": 134
        }
      ]
    },
    {
      "metadata": {
        "id": "_aWYCcYvyngS",
        "colab_type": "code",
        "colab": {
          "base_uri": "https://localhost:8080/",
          "height": 34
        },
        "outputId": "bb5f77d9-dfc0-426d-fe17-6e574f7a78f2"
      },
      "cell_type": "code",
      "source": [
        "1595/2000*100"
      ],
      "execution_count": 136,
      "outputs": [
        {
          "output_type": "execute_result",
          "data": {
            "text/plain": [
              "79.75"
            ]
          },
          "metadata": {
            "tags": []
          },
          "execution_count": 136
        }
      ]
    },
    {
      "metadata": {
        "id": "Hs2KV9DNy1XS",
        "colab_type": "text"
      },
      "cell_type": "markdown",
      "source": [
        "hence proved that we have got accuracy of alomost 80 percent"
      ]
    }
  ]
}